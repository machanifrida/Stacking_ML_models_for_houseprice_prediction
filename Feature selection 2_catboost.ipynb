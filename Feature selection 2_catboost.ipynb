{
 "cells": [
  {
   "cell_type": "markdown",
   "metadata": {},
   "source": [
    "# **Feature Selection with CatBoost**\n",
    "\n",
    "Predicting housing Prices: Kaggle competition dataset"
   ]
  },
  {
   "cell_type": "code",
   "execution_count": 185,
   "metadata": {},
   "outputs": [],
   "source": [
    "#import libraries\n",
    "import pandas as pd\n",
    "import numpy as np\n",
    "import matplotlib.pyplot as plt\n",
    "import seaborn as sns\n",
    "from xgboost import XGBRegressor\n",
    "from sklearn.ensemble import RandomForestRegressor\n",
    "from sklearn.model_selection import train_test_split, KFold\n",
    "from sklearn.metrics import mean_absolute_error, mean_squared_error as MSE\n",
    "from sklearn.pipeline import Pipeline\n",
    "from sklearn.preprocessing import StandardScaler, PolynomialFeatures, OneHotEncoder \n",
    "from sklearn.feature_selection import RFE, RFECV, SelectFromModel \n",
    "from sklearn.linear_model import LassoCV\n",
    "from sklearn.compose import ColumnTransformer\n",
    "from sklearn.pipeline import Pipeline\n",
    "from catboost import CatBoostRegressor, Pool"
   ]
  },
  {
   "cell_type": "markdown",
   "metadata": {},
   "source": [
    "### RFE with CatBoost"
   ]
  },
  {
   "cell_type": "code",
   "execution_count": 187,
   "metadata": {},
   "outputs": [
    {
     "data": {
      "text/html": [
       "<div>\n",
       "<style scoped>\n",
       "    .dataframe tbody tr th:only-of-type {\n",
       "        vertical-align: middle;\n",
       "    }\n",
       "\n",
       "    .dataframe tbody tr th {\n",
       "        vertical-align: top;\n",
       "    }\n",
       "\n",
       "    .dataframe thead th {\n",
       "        text-align: right;\n",
       "    }\n",
       "</style>\n",
       "<table border=\"1\" class=\"dataframe\">\n",
       "  <thead>\n",
       "    <tr style=\"text-align: right;\">\n",
       "      <th></th>\n",
       "      <th>Id</th>\n",
       "      <th>MSSubClass</th>\n",
       "      <th>MSZoning</th>\n",
       "      <th>LotFrontage</th>\n",
       "      <th>LotArea</th>\n",
       "      <th>Street</th>\n",
       "      <th>Alley</th>\n",
       "      <th>LotShape</th>\n",
       "      <th>LandContour</th>\n",
       "      <th>Utilities</th>\n",
       "      <th>...</th>\n",
       "      <th>nbd_price_sqf</th>\n",
       "      <th>nbd_avg_price</th>\n",
       "      <th>SubClass_avg_price</th>\n",
       "      <th>Zoning_avg_price</th>\n",
       "      <th>yearbuilt_avg_price</th>\n",
       "      <th>age_avg_price</th>\n",
       "      <th>age_afterRemodel_price</th>\n",
       "      <th>rooms_avg_price</th>\n",
       "      <th>bldgtype_avg_price</th>\n",
       "      <th>overalcond_avg_price</th>\n",
       "    </tr>\n",
       "  </thead>\n",
       "  <tbody>\n",
       "    <tr>\n",
       "      <th>0</th>\n",
       "      <td>1</td>\n",
       "      <td>60</td>\n",
       "      <td>RL</td>\n",
       "      <td>65.0</td>\n",
       "      <td>8450</td>\n",
       "      <td>Pave</td>\n",
       "      <td>NaN</td>\n",
       "      <td>Reg</td>\n",
       "      <td>Lvl</td>\n",
       "      <td>AllPub</td>\n",
       "      <td>...</td>\n",
       "      <td>62.038341</td>\n",
       "      <td>197965.773333</td>\n",
       "      <td>65.750673</td>\n",
       "      <td>59.919799</td>\n",
       "      <td>227408.577778</td>\n",
       "      <td>235136.666667</td>\n",
       "      <td>189917.391304</td>\n",
       "      <td>213427.529412</td>\n",
       "      <td>185763.807377</td>\n",
       "      <td>203146.914738</td>\n",
       "    </tr>\n",
       "    <tr>\n",
       "      <th>1</th>\n",
       "      <td>2</td>\n",
       "      <td>20</td>\n",
       "      <td>RL</td>\n",
       "      <td>80.0</td>\n",
       "      <td>9600</td>\n",
       "      <td>Pave</td>\n",
       "      <td>NaN</td>\n",
       "      <td>Reg</td>\n",
       "      <td>Lvl</td>\n",
       "      <td>AllPub</td>\n",
       "      <td>...</td>\n",
       "      <td>68.934594</td>\n",
       "      <td>238772.727273</td>\n",
       "      <td>58.865992</td>\n",
       "      <td>59.919799</td>\n",
       "      <td>163831.969697</td>\n",
       "      <td>168832.419355</td>\n",
       "      <td>163939.464286</td>\n",
       "      <td>161303.296020</td>\n",
       "      <td>185763.807377</td>\n",
       "      <td>155651.736111</td>\n",
       "    </tr>\n",
       "    <tr>\n",
       "      <th>2</th>\n",
       "      <td>3</td>\n",
       "      <td>60</td>\n",
       "      <td>RL</td>\n",
       "      <td>68.0</td>\n",
       "      <td>11250</td>\n",
       "      <td>Pave</td>\n",
       "      <td>NaN</td>\n",
       "      <td>IR1</td>\n",
       "      <td>Lvl</td>\n",
       "      <td>AllPub</td>\n",
       "      <td>...</td>\n",
       "      <td>62.038341</td>\n",
       "      <td>197965.773333</td>\n",
       "      <td>65.750673</td>\n",
       "      <td>59.919799</td>\n",
       "      <td>242630.000000</td>\n",
       "      <td>223333.333333</td>\n",
       "      <td>200525.375000</td>\n",
       "      <td>161303.296020</td>\n",
       "      <td>185763.807377</td>\n",
       "      <td>203146.914738</td>\n",
       "    </tr>\n",
       "    <tr>\n",
       "      <th>3</th>\n",
       "      <td>4</td>\n",
       "      <td>70</td>\n",
       "      <td>RL</td>\n",
       "      <td>60.0</td>\n",
       "      <td>9550</td>\n",
       "      <td>Pave</td>\n",
       "      <td>NaN</td>\n",
       "      <td>IR1</td>\n",
       "      <td>Lvl</td>\n",
       "      <td>AllPub</td>\n",
       "      <td>...</td>\n",
       "      <td>65.396994</td>\n",
       "      <td>210624.725490</td>\n",
       "      <td>56.016462</td>\n",
       "      <td>59.919799</td>\n",
       "      <td>134387.500000</td>\n",
       "      <td>131566.666667</td>\n",
       "      <td>131429.545455</td>\n",
       "      <td>196666.784195</td>\n",
       "      <td>185763.807377</td>\n",
       "      <td>203146.914738</td>\n",
       "    </tr>\n",
       "    <tr>\n",
       "      <th>4</th>\n",
       "      <td>5</td>\n",
       "      <td>60</td>\n",
       "      <td>RL</td>\n",
       "      <td>84.0</td>\n",
       "      <td>14260</td>\n",
       "      <td>Pave</td>\n",
       "      <td>NaN</td>\n",
       "      <td>IR1</td>\n",
       "      <td>Lvl</td>\n",
       "      <td>AllPub</td>\n",
       "      <td>...</td>\n",
       "      <td>70.024933</td>\n",
       "      <td>335295.317073</td>\n",
       "      <td>65.750673</td>\n",
       "      <td>59.919799</td>\n",
       "      <td>210766.666667</td>\n",
       "      <td>211244.000000</td>\n",
       "      <td>209098.809524</td>\n",
       "      <td>252988.173333</td>\n",
       "      <td>185763.807377</td>\n",
       "      <td>203146.914738</td>\n",
       "    </tr>\n",
       "  </tbody>\n",
       "</table>\n",
       "<p>5 rows × 97 columns</p>\n",
       "</div>"
      ],
      "text/plain": [
       "   Id  MSSubClass MSZoning  LotFrontage  LotArea Street Alley LotShape  \\\n",
       "0   1          60       RL         65.0     8450   Pave   NaN      Reg   \n",
       "1   2          20       RL         80.0     9600   Pave   NaN      Reg   \n",
       "2   3          60       RL         68.0    11250   Pave   NaN      IR1   \n",
       "3   4          70       RL         60.0     9550   Pave   NaN      IR1   \n",
       "4   5          60       RL         84.0    14260   Pave   NaN      IR1   \n",
       "\n",
       "  LandContour Utilities  ... nbd_price_sqf  nbd_avg_price SubClass_avg_price  \\\n",
       "0         Lvl    AllPub  ...     62.038341  197965.773333          65.750673   \n",
       "1         Lvl    AllPub  ...     68.934594  238772.727273          58.865992   \n",
       "2         Lvl    AllPub  ...     62.038341  197965.773333          65.750673   \n",
       "3         Lvl    AllPub  ...     65.396994  210624.725490          56.016462   \n",
       "4         Lvl    AllPub  ...     70.024933  335295.317073          65.750673   \n",
       "\n",
       "  Zoning_avg_price yearbuilt_avg_price  age_avg_price age_afterRemodel_price  \\\n",
       "0        59.919799       227408.577778  235136.666667          189917.391304   \n",
       "1        59.919799       163831.969697  168832.419355          163939.464286   \n",
       "2        59.919799       242630.000000  223333.333333          200525.375000   \n",
       "3        59.919799       134387.500000  131566.666667          131429.545455   \n",
       "4        59.919799       210766.666667  211244.000000          209098.809524   \n",
       "\n",
       "   rooms_avg_price  bldgtype_avg_price  overalcond_avg_price  \n",
       "0    213427.529412       185763.807377         203146.914738  \n",
       "1    161303.296020       185763.807377         155651.736111  \n",
       "2    161303.296020       185763.807377         203146.914738  \n",
       "3    196666.784195       185763.807377         203146.914738  \n",
       "4    252988.173333       185763.807377         203146.914738  \n",
       "\n",
       "[5 rows x 97 columns]"
      ]
     },
     "execution_count": 187,
     "metadata": {},
     "output_type": "execute_result"
    }
   ],
   "source": [
    "df = pd.read_csv(\"extended_df.csv\")\n",
    "df.head()"
   ]
  },
  {
   "cell_type": "code",
   "execution_count": 188,
   "metadata": {},
   "outputs": [
    {
     "data": {
      "text/plain": [
       "Index(['Id', 'MSSubClass', 'MSZoning', 'LotFrontage', 'LotArea', 'Street',\n",
       "       'Alley', 'LotShape', 'LandContour', 'Utilities', 'LotConfig',\n",
       "       'LandSlope', 'Neighborhood', 'Condition1', 'Condition2', 'BldgType',\n",
       "       'HouseStyle', 'OverallQual', 'OverallCond', 'YearBuilt', 'YearRemodAdd',\n",
       "       'RoofStyle', 'RoofMatl', 'Exterior1st', 'Exterior2nd', 'MasVnrType',\n",
       "       'MasVnrArea', 'ExterQual', 'ExterCond', 'Foundation', 'BsmtQual',\n",
       "       'BsmtCond', 'BsmtExposure', 'BsmtFinType1', 'BsmtFinSF1',\n",
       "       'BsmtFinType2', 'BsmtFinSF2', 'BsmtUnfSF', 'TotalBsmtSF', 'Heating',\n",
       "       'HeatingQC', 'CentralAir', 'Electrical', '1stFlrSF', '2ndFlrSF',\n",
       "       'LowQualFinSF', 'GrLivArea', 'BsmtFullBath', 'BsmtHalfBath', 'FullBath',\n",
       "       'HalfBath', 'BedroomAbvGr', 'KitchenAbvGr', 'KitchenQual',\n",
       "       'TotRmsAbvGrd', 'Functional', 'Fireplaces', 'FireplaceQu', 'GarageType',\n",
       "       'GarageYrBlt', 'GarageFinish', 'GarageCars', 'GarageArea', 'GarageQual',\n",
       "       'GarageCond', 'PavedDrive', 'WoodDeckSF', 'OpenPorchSF',\n",
       "       'EnclosedPorch', '3SsnPorch', 'ScreenPorch', 'PoolArea', 'PoolQC',\n",
       "       'Fence', 'MiscFeature', 'MiscVal', 'MoSold', 'YrSold', 'SaleType',\n",
       "       'SaleCondition', 'SalePrice', 'age', 'age_afterRemodel', 'is_renovated',\n",
       "       'total_area', 'total_bathrooms', 'price_sqft', 'nbd_price_sqf',\n",
       "       'nbd_avg_price', 'SubClass_avg_price', 'Zoning_avg_price',\n",
       "       'yearbuilt_avg_price', 'age_avg_price', 'age_afterRemodel_price',\n",
       "       'rooms_avg_price', 'bldgtype_avg_price', 'overalcond_avg_price'],\n",
       "      dtype='object')"
      ]
     },
     "execution_count": 188,
     "metadata": {},
     "output_type": "execute_result"
    }
   ],
   "source": [
    "df.columns"
   ]
  },
  {
   "cell_type": "code",
   "execution_count": 189,
   "metadata": {},
   "outputs": [],
   "source": [
    "# Split data\n",
    "#X = df.drop(columns=['SalePrice', \"price_sqft\", \"Id\"])\n",
    "X = df.drop(columns=['SalePrice', \"price_sqft\", \"Id\"])\n",
    "X = X.dropna(axis='columns')\n",
    "y = df['SalePrice']\n",
    "\n",
    "# Identify categorical columns (assumes object or category dtype)\n",
    "cat_features = X.select_dtypes(include=['object', 'category']).columns.tolist()\n",
    "\n",
    "\n",
    "# Train-test split\n",
    "X_train, X_test, y_train, y_test = train_test_split(X, y, test_size=0.2, random_state=42)\n",
    "\n",
    "# Initialize CatBoost model\n",
    "catboost_model = CatBoostRegressor(\n",
    "    iterations=1000,\n",
    "    learning_rate=0.05,\n",
    "    depth=6,\n",
    "    early_stopping_rounds=50,\n",
    "    verbose=0,\n",
    "    random_state=42\n",
    ")"
   ]
  },
  {
   "cell_type": "code",
   "execution_count": 190,
   "metadata": {},
   "outputs": [
    {
     "data": {
      "text/plain": [
       "<catboost.core.CatBoostRegressor at 0x1f7d07dbcb0>"
      ]
     },
     "execution_count": 190,
     "metadata": {},
     "output_type": "execute_result"
    }
   ],
   "source": [
    "# Use CatBoost Pool for native categorical handling\n",
    "train_pool = Pool(X_train, y_train, cat_features=cat_features)\n",
    "valid_pool = Pool(X_test, y_test, cat_features=cat_features)\n",
    "\n",
    "# Fit the model\n",
    "catboost_model.fit(train_pool, eval_set=valid_pool)"
   ]
  },
  {
   "cell_type": "code",
   "execution_count": 191,
   "metadata": {},
   "outputs": [],
   "source": [
    "# Get top 40 most important features\n",
    "feature_importance = catboost_model.get_feature_importance(train_pool, type='FeatureImportance')\n",
    "feature_names = X_train.columns\n",
    "top_40_features = pd.Series(feature_importance, index=feature_names).nlargest(40).index.tolist()\n",
    "\n",
    "# Subset data to top 40 features\n",
    "X_train_top = X_train[top_40_features]\n",
    "X_test_top = X_test[top_40_features]\n",
    "\n",
    "# Update categorical list for reduced feature set\n",
    "cat_features_top = [col for col in cat_features if col in top_40_features]\n"
   ]
  },
  {
   "cell_type": "code",
   "execution_count": 192,
   "metadata": {},
   "outputs": [
    {
     "data": {
      "text/plain": [
       "<catboost.core.CatBoostRegressor at 0x1f7d07dbcb0>"
      ]
     },
     "execution_count": 192,
     "metadata": {},
     "output_type": "execute_result"
    }
   ],
   "source": [
    "# Recreate Pools\n",
    "train_pool_top = Pool(X_train_top, y_train, cat_features=cat_features_top)\n",
    "test_pool_top = Pool(X_test_top, y_test, cat_features=cat_features_top)\n",
    "\n",
    "# Retrain with top 40 features\n",
    "catboost_model.fit(train_pool_top, eval_set=test_pool_top, verbose=0)"
   ]
  },
  {
   "cell_type": "code",
   "execution_count": 193,
   "metadata": {},
   "outputs": [
    {
     "name": "stdout",
     "output_type": "stream",
     "text": [
      "MAE using CatBoost with top 40 native features: $15,004\n"
     ]
    }
   ],
   "source": [
    "# Predict and evaluate\n",
    "y_pred = catboost_model.predict(test_pool_top)\n",
    "mae = mean_absolute_error(y_test, y_pred)\n",
    "print(f\"MAE using CatBoost with top 40 native features: ${mae:,.0f}\")"
   ]
  },
  {
   "cell_type": "code",
   "execution_count": 194,
   "metadata": {},
   "outputs": [
    {
     "name": "stdout",
     "output_type": "stream",
     "text": [
      "Best MAE: $14,758 with top 40 features\n"
     ]
    }
   ],
   "source": [
    "best_mae = float('inf')\n",
    "best_n = 0\n",
    "\n",
    "for n in range(20, 61, 5):  # Try top 20 to 60 features\n",
    "    top_n_features = pd.Series(feature_importance, index=feature_names).nlargest(n).index.tolist()\n",
    "    X_train_n = X_train[top_n_features]\n",
    "    X_test_n = X_test[top_n_features]\n",
    "    cat_features_n = [col for col in cat_features if col in top_n_features]\n",
    "    \n",
    "    train_pool_n = Pool(X_train_n, y_train, cat_features=cat_features_n)\n",
    "    test_pool_n = Pool(X_test_n, y_test, cat_features=cat_features_n)\n",
    "\n",
    "    model_n = CatBoostRegressor(\n",
    "        iterations=1000,\n",
    "        learning_rate=0.04,\n",
    "        depth=6,\n",
    "        early_stopping_rounds=50,\n",
    "        verbose=0,\n",
    "        random_state=42\n",
    "    )\n",
    "    model_n.fit(train_pool_n, eval_set=test_pool_n)\n",
    "    y_pred_n = model_n.predict(test_pool_n)\n",
    "    mae_n = mean_absolute_error(y_test, y_pred_n)\n",
    "\n",
    "    if mae_n < best_mae:\n",
    "        best_mae = mae_n\n",
    "        best_n = n\n",
    "\n",
    "print(f\"Best MAE: ${best_mae:,.0f} with top {best_n} features\")"
   ]
  },
  {
   "cell_type": "code",
   "execution_count": 195,
   "metadata": {},
   "outputs": [
    {
     "name": "stdout",
     "output_type": "stream",
     "text": [
      "Top 40 features used:\n",
      " 1. total_area\n",
      " 2. OverallQual\n",
      " 3. nbd_avg_price\n",
      " 4. GrLivArea\n",
      " 5. total_bathrooms\n",
      " 6. KitchenQual\n",
      " 7. LotArea\n",
      " 8. age_avg_price\n",
      " 9. BsmtFinSF1\n",
      "10. nbd_price_sqf\n",
      "11. GarageCars\n",
      "12. FireplaceQu\n",
      "13. BsmtQual\n",
      "14. FullBath\n",
      "15. yearbuilt_avg_price\n",
      "16. OverallCond\n",
      "17. 2ndFlrSF\n",
      "18. Fireplaces\n",
      "19. 1stFlrSF\n",
      "20. TotalBsmtSF\n",
      "21. age\n",
      "22. YearRemodAdd\n",
      "23. ExterQual\n",
      "24. YearBuilt\n",
      "25. rooms_avg_price\n",
      "26. BsmtUnfSF\n",
      "27. SaleCondition\n",
      "28. LandContour\n",
      "29. BsmtExposure\n",
      "30. age_afterRemodel\n",
      "31. age_afterRemodel_price\n",
      "32. SubClass_avg_price\n",
      "33. MasVnrArea\n",
      "34. GarageArea\n",
      "35. BsmtFinType1\n",
      "36. BsmtCond\n",
      "37. OpenPorchSF\n",
      "38. GarageYrBlt\n",
      "39. Condition1\n",
      "40. Exterior1st\n"
     ]
    }
   ],
   "source": [
    "top_40_features = pd.Series(feature_importance, index=feature_names).nlargest(40).index.tolist()\n",
    "\n",
    "print(\"Top 40 features used:\")\n",
    "for i, feat in enumerate(top_40_features, 1):\n",
    "    print(f\"{i:2d}. {feat}\")"
   ]
  },
  {
   "cell_type": "code",
   "execution_count": 196,
   "metadata": {},
   "outputs": [
    {
     "data": {
      "text/plain": [
       "['MSZoning',\n",
       " 'Street',\n",
       " 'LotShape',\n",
       " 'LandContour',\n",
       " 'Utilities',\n",
       " 'LotConfig',\n",
       " 'LandSlope',\n",
       " 'Neighborhood',\n",
       " 'Condition1',\n",
       " 'Condition2',\n",
       " 'BldgType',\n",
       " 'HouseStyle',\n",
       " 'RoofStyle',\n",
       " 'RoofMatl',\n",
       " 'Exterior1st',\n",
       " 'Exterior2nd',\n",
       " 'Foundation',\n",
       " 'Heating',\n",
       " 'Functional',\n",
       " 'PavedDrive',\n",
       " 'SaleType',\n",
       " 'SaleCondition']"
      ]
     },
     "execution_count": 196,
     "metadata": {},
     "output_type": "execute_result"
    }
   ],
   "source": [
    "cat_features"
   ]
  },
  {
   "cell_type": "markdown",
   "metadata": {},
   "source": [
    "### Combine RFE/Random Forest with Catboost Selected Features and Select again with Catboost"
   ]
  },
  {
   "cell_type": "code",
   "execution_count": 198,
   "metadata": {},
   "outputs": [],
   "source": [
    "catboost_selected = ['total_area', 'OverallQual', 'nbd_avg_price', 'GrLivArea', 'total_bathrooms',\n",
    "                'KitchenQual', 'LotArea', 'age_avg_price', 'BsmtFinSF1', 'nbd_price_sqf', 'GarageCars',\n",
    "                'FireplaceQu', 'BsmtQual', 'FullBath', 'yearbuilt_avg_price', 'OverallCond', '2ndFlrSF',\n",
    "                'Fireplaces', '1stFlrSF', 'TotalBsmtSF', 'age', 'YearRemodAdd', 'ExterQual', 'YearBuilt',\n",
    "                'rooms_avg_price', 'BsmtUnfSF', 'SaleCondition', 'LandContour', 'BsmtExposure', 'age_afterRemodel',\n",
    "                'age_afterRemodel_price', 'SubClass_avg_price', 'MasVnrArea', 'GarageArea', 'BsmtFinType1',\n",
    "                'BsmtCond', 'OpenPorchSF', 'GarageYrBlt', 'Condition1', 'Exterior1st', 'LotFrontage', 'BsmtFinType2', \n",
    "                'HeatingQC', 'CentralAir', 'BsmtFullBath', 'Zoning_avg_price', 'overalcond_avg_price']"
   ]
  },
  {
   "cell_type": "code",
   "execution_count": 199,
   "metadata": {},
   "outputs": [],
   "source": [
    "rfe_selected = ['LotFrontage_yearbuilt_avg_price', 'OverallQual_GrLivArea', 'OverallQual_total_area',\n",
    "                'OverallQual_nbd_price_sqf', 'OverallQual_rooms_avg_price', 'OverallCond_total_area',\n",
    "                'OverallCond_age_avg_price', 'ExterQual_total_area', 'BsmtQual_total_area', \n",
    "                'BsmtQual_nbd_price_sqf', 'BsmtCond_total_area', 'BsmtExposure_2ndFlrSF', \n",
    "                'BsmtExposure_GrLivArea', 'BsmtFinSF1_nbd_avg_price', 'BsmtFinType2_FullBath',\n",
    "                'BsmtFinType2_age_avg_price', 'HeatingQC_total_area', 'CentralAir_total_area',\n",
    "                '1stFlrSF_age_avg_price', '2ndFlrSF_yearbuilt_avg_price', 'GrLivArea_nbd_avg_price',\n",
    "                'GrLivArea_yearbuilt_avg_price', 'GrLivArea_age_avg_price', 'BsmtFullBath_yearbuilt_avg_price',\n",
    "                'KitchenQual_total_area', 'Fireplaces_yearbuilt_avg_price', 'Fireplaces_age_afterRemodel_price',\n",
    "                'total_area_nbd_price_sqf', 'total_area_nbd_avg_price', 'total_area_SubClass_avg_price',\n",
    "                'total_area_Zoning_avg_price', 'total_area_yearbuilt_avg_price', 'total_area_age_avg_price',\n",
    "                'total_area_age_afterRemodel_price', 'total_area_overalcond_avg_price', 'total_bathrooms_nbd_avg_price',\n",
    "                'total_bathrooms_age_avg_price', 'total_bathrooms_age_afterRemodel_price', 'nbd_price_sqf_age_avg_price',\n",
    "                'nbd_avg_price_rooms_avg_price']\n"
   ]
  },
  {
   "cell_type": "markdown",
   "metadata": {},
   "source": [
    "RFE selected only interaction features which do not yet exist in the df. Create those features and then select again using catboost"
   ]
  },
  {
   "cell_type": "code",
   "execution_count": 201,
   "metadata": {},
   "outputs": [],
   "source": [
    "# Define function to add features safely to train and test\n",
    "def add_poly_features(df):\n",
    "    df = df.copy()\n",
    "    df['expected_price'] = df['GrLivArea'] * df['nbd_avg_price']\n",
    "    df[\"YearBuilt_total_area\"] = df[\"YearBuilt\"] * df[\"total_area\"]\n",
    "    df['LotFrontage_yearbuilt_avg_price'] = df['LotFrontage'] * df['yearbuilt_avg_price']\n",
    "    df['OverallQual_GrLivArea'] = df['OverallQual'] * df['GrLivArea']\n",
    "    df['OverallQual_total_area'] = df['OverallQual'] * df['total_area']\n",
    "    df['OverallQual_nbd_price_sqf'] = df['OverallQual'] * df['nbd_price_sqf']\n",
    "    df['OverallQual_rooms_avg_price'] = df['OverallQual'] * df['rooms_avg_price']\n",
    "    df[\"OverallCond_total_area\"] = df[\"OverallCond\"] * df[\"total_area\"]\n",
    "    df['OverallCond_age_avg_price'] = df['OverallCond'] * df['age_avg_price']\n",
    "    df['ExterQual_total_area'] = df['ExterQual'] * df['total_area']\n",
    "    df['BsmtQual_total_area'] = df['BsmtQual'] * df['total_area']\n",
    "    df['BsmtQual_nbd_price_sqf'] = df['BsmtQual'] * df['nbd_price_sqf']\n",
    "    df['BsmtCond_total_area'] = df['BsmtCond'] * df['total_area']\n",
    "    df['BsmtExposure_2ndFlrSF'] = df['BsmtExposure'] * df['2ndFlrSF']\n",
    "    df['BsmtExposure_GrLivArea'] = df['BsmtExposure'] * df['GrLivArea']\n",
    "    df['BsmtFinSF1_nbd_avg_price'] = df['BsmtFinSF1'] * df['nbd_avg_price']\n",
    "    df['BsmtFinType2_FullBath'] = df['BsmtFinType2'] * df['FullBath']\n",
    "    df['BsmtFinType2_age_avg_price'] = df['BsmtFinType2'] * df['age_avg_price']\n",
    "    df['HeatingQC_total_area'] = df['HeatingQC'] * df['total_area']\n",
    "    df['CentralAir_total_area'] = df['CentralAir'] * df['total_area']\n",
    "    df['1stFlrSF_age_avg_price'] = df['1stFlrSF'] * df['age_avg_price']\n",
    "    df['2ndFlrSF_yearbuilt_avg_price'] = df['2ndFlrSF'] * df['yearbuilt_avg_price']\n",
    "    df['GrLivArea_nbd_avg_price'] = df['GrLivArea'] * df['nbd_avg_price']\n",
    "    df['GrLivArea_yearbuilt_avg_price'] = df['GrLivArea'] * df['yearbuilt_avg_price']\n",
    "    df['GrLivArea_age_avg_price'] = df['GrLivArea'] * df['age_avg_price']\n",
    "    df['BsmtFullBath_yearbuilt_avg_price'] = df['BsmtFullBath'] * df['yearbuilt_avg_price']\n",
    "    df['KitchenQual_total_area'] = df['KitchenQual'] * df['total_area']\n",
    "    df['Fireplaces_yearbuilt_avg_price'] = df['Fireplaces'] * df['yearbuilt_avg_price']\n",
    "    df['Fireplaces_age_afterRemodel_price'] = df['Fireplaces'] * df['age_afterRemodel_price']\n",
    "    df['total_area_nbd_price_sqf'] = df['total_area'] * df['nbd_price_sqf']\n",
    "    df['total_area_nbd_avg_price'] = df['total_area'] * df['nbd_avg_price']\n",
    "    df['total_area_SubClass_avg_price'] = df['total_area'] * df['SubClass_avg_price']\n",
    "    df['total_area_Zoning_avg_price'] = df['total_area'] * df['Zoning_avg_price']\n",
    "    df['total_area_yearbuilt_avg_price'] = df['total_area'] * df['yearbuilt_avg_price']\n",
    "    df['total_area_age_avg_price'] = df['total_area'] * df['age_avg_price']\n",
    "    df['total_area_age_afterRemodel_price'] = df['total_area'] * df['age_afterRemodel_price']\n",
    "    df['total_area_overalcond_avg_price'] = df['total_area'] * df['overalcond_avg_price']\n",
    "    df['total_bathrooms_nbd_avg_price'] = df['total_bathrooms'] * df['nbd_avg_price']\n",
    "    df['total_bathrooms_age_avg_price'] = df['total_bathrooms'] * df['age_avg_price']\n",
    "    df['total_bathrooms_age_afterRemodel_price'] = df['total_bathrooms'] * df['age_afterRemodel_price']\n",
    "    df['nbd_price_sqf_age_avg_price'] = df['nbd_price_sqf'] * df['age_avg_price']\n",
    "    df['nbd_avg_price_rooms_avg_price'] = df['nbd_avg_price'] * df['rooms_avg_price']\n",
    "\n",
    "    return df"
   ]
  },
  {
   "cell_type": "code",
   "execution_count": 202,
   "metadata": {},
   "outputs": [],
   "source": [
    "X_new = df.loc[:, catboost_selected]\n",
    "y = df['SalePrice']"
   ]
  },
  {
   "cell_type": "code",
   "execution_count": 203,
   "metadata": {},
   "outputs": [],
   "source": [
    "X_train_full, X_test_full, y_train, y_test = train_test_split(X_new, y, test_size=0.2, random_state=42)\n",
    "\n",
    "X_train = add_poly_features(X_train_full)\n",
    "X_test = add_poly_features(X_test_full)"
   ]
  },
  {
   "cell_type": "code",
   "execution_count": 204,
   "metadata": {},
   "outputs": [],
   "source": [
    "cat_features = X_new.select_dtypes(include=['object', 'category']).columns.tolist()"
   ]
  },
  {
   "cell_type": "code",
   "execution_count": 205,
   "metadata": {},
   "outputs": [],
   "source": [
    "# Initialize CatBoost model\n",
    "catboost_model = CatBoostRegressor(\n",
    "    iterations=1000,\n",
    "    learning_rate=0.05,\n",
    "    depth=6,\n",
    "    early_stopping_rounds=50,\n",
    "    verbose=0,\n",
    "    random_state=42\n",
    ")"
   ]
  },
  {
   "cell_type": "code",
   "execution_count": 206,
   "metadata": {},
   "outputs": [
    {
     "data": {
      "text/plain": [
       "<catboost.core.CatBoostRegressor at 0x1f7d28397f0>"
      ]
     },
     "execution_count": 206,
     "metadata": {},
     "output_type": "execute_result"
    }
   ],
   "source": [
    "# Use CatBoost Pool for native categorical handling\n",
    "train_pool = Pool(X_train, y_train, cat_features=cat_features)\n",
    "valid_pool = Pool(X_test, y_test, cat_features=cat_features)\n",
    "\n",
    "# Fit the model\n",
    "catboost_model.fit(train_pool, eval_set=valid_pool)"
   ]
  },
  {
   "cell_type": "code",
   "execution_count": 207,
   "metadata": {},
   "outputs": [],
   "source": [
    "# Get top 40 most important features\n",
    "feature_importance = catboost_model.get_feature_importance(train_pool, type='FeatureImportance')\n",
    "feature_names = X_train.columns\n",
    "top_40_features = pd.Series(feature_importance, index=feature_names).nlargest(40).index.tolist()\n",
    "\n",
    "# Subset data to top 40 features\n",
    "X_train_top = X_train[top_40_features]\n",
    "X_test_top = X_test[top_40_features]\n",
    "\n",
    "# Update categorical list for reduced feature set\n",
    "cat_features_top = [col for col in cat_features if col in top_40_features]"
   ]
  },
  {
   "cell_type": "code",
   "execution_count": 208,
   "metadata": {},
   "outputs": [
    {
     "data": {
      "text/plain": [
       "<catboost.core.CatBoostRegressor at 0x1f7d28397f0>"
      ]
     },
     "execution_count": 208,
     "metadata": {},
     "output_type": "execute_result"
    }
   ],
   "source": [
    "# Recreate Pools\n",
    "train_pool_top = Pool(X_train_top, y_train, cat_features=cat_features_top)\n",
    "test_pool_top = Pool(X_test_top, y_test, cat_features=cat_features_top)\n",
    "\n",
    "# Retrain with top 40 features\n",
    "catboost_model.fit(train_pool_top, eval_set=test_pool_top, verbose=0)"
   ]
  },
  {
   "cell_type": "code",
   "execution_count": 209,
   "metadata": {},
   "outputs": [
    {
     "name": "stdout",
     "output_type": "stream",
     "text": [
      "MAE using CatBoost with top 40 native features: $15,042\n"
     ]
    }
   ],
   "source": [
    "# Predict and evaluate\n",
    "y_pred = catboost_model.predict(test_pool_top)\n",
    "mae = mean_absolute_error(y_test, y_pred)\n",
    "print(f\"MAE using CatBoost with top 40 native features: ${mae:,.0f}\")"
   ]
  },
  {
   "cell_type": "code",
   "execution_count": 231,
   "metadata": {},
   "outputs": [
    {
     "name": "stdout",
     "output_type": "stream",
     "text": [
      "Best MAE: $14,118 with top 30 features\n"
     ]
    }
   ],
   "source": [
    "best_mae = float('inf')\n",
    "best_n = 0\n",
    "\n",
    "for n in range(20, 61, 5):  # Try top 20 to 60 features\n",
    "    top_n_features = pd.Series(feature_importance, index=feature_names).nlargest(n).index.tolist()\n",
    "    X_train_n = X_train[top_n_features]\n",
    "    X_test_n = X_test[top_n_features]\n",
    "    cat_features_n = [col for col in cat_features if col in top_n_features]\n",
    "    \n",
    "    train_pool_n = Pool(X_train_n, y_train, cat_features=cat_features_n)\n",
    "    test_pool_n = Pool(X_test_n, y_test, cat_features=cat_features_n)\n",
    "\n",
    "    model_n = CatBoostRegressor(\n",
    "        iterations=1000,\n",
    "        learning_rate=0.038,\n",
    "        depth = 10,\n",
    "        #boosting_type = 'Ordered',\n",
    "        early_stopping_rounds=50,\n",
    "        verbose=0,\n",
    "        random_state=42\n",
    "    )\n",
    "    model_n.fit(train_pool_n, eval_set=test_pool_n)\n",
    "    y_pred_n = model_n.predict(test_pool_n)\n",
    "    mae_n = mean_absolute_error(y_test, y_pred_n)\n",
    "\n",
    "    if mae_n < best_mae:\n",
    "        best_mae = mae_n\n",
    "        best_n = n\n",
    "\n",
    "print(f\"Best MAE: ${best_mae:,.0f} with top {best_n} features\")"
   ]
  },
  {
   "cell_type": "code",
   "execution_count": null,
   "metadata": {},
   "outputs": [],
   "source": [
    "Best MAE: $14,737 with top 55 features 0.03"
   ]
  },
  {
   "cell_type": "code",
   "execution_count": 238,
   "metadata": {},
   "outputs": [
    {
     "name": "stdout",
     "output_type": "stream",
     "text": [
      "Top 30 features used:\n",
      " 1. OverallQual_total_area\n",
      " 2. KitchenQual_total_area\n",
      " 3. total_area_nbd_avg_price\n",
      " 4. total_area_yearbuilt_avg_price\n",
      " 5. BsmtQual_total_area\n",
      " 6. OverallCond_total_area\n",
      " 7. OverallQual\n",
      " 8. ExterQual_total_area\n",
      " 9. total_area_nbd_price_sqf\n",
      "10. GrLivArea_nbd_avg_price\n",
      "11. BsmtExposure_GrLivArea\n",
      "12. nbd_avg_price_rooms_avg_price\n",
      "13. nbd_price_sqf\n",
      "14. nbd_avg_price\n",
      "15. total_area_age_avg_price\n",
      "16. BsmtQual_nbd_price_sqf\n",
      "17. total_bathrooms_nbd_avg_price\n",
      "18. OverallQual_GrLivArea\n",
      "19. LotArea\n",
      "20. Fireplaces_age_afterRemodel_price\n",
      "21. HeatingQC_total_area\n",
      "22. Fireplaces_yearbuilt_avg_price\n",
      "23. total_area_age_afterRemodel_price\n",
      "24. total_bathrooms\n",
      "25. OverallCond_age_avg_price\n",
      "26. OverallQual_rooms_avg_price\n",
      "27. total_area_Zoning_avg_price\n",
      "28. total_area_SubClass_avg_price\n",
      "29. CentralAir_total_area\n",
      "30. BsmtFinSF1\n"
     ]
    }
   ],
   "source": [
    "top_30_features = pd.Series(feature_importance, index=feature_names).nlargest(30).index.tolist()\n",
    "\n",
    "print(\"Top 30 features used:\")\n",
    "for i, feat in enumerate(top_30_features, 1):\n",
    "    print(f\"{i:2d}. {feat}\")"
   ]
  },
  {
   "cell_type": "code",
   "execution_count": null,
   "metadata": {},
   "outputs": [],
   "source": []
  }
 ],
 "metadata": {
  "kaggle": {
   "accelerator": "none",
   "dataSources": [
    {
     "databundleVersionId": 111096,
     "sourceId": 10211,
     "sourceType": "competition"
    }
   ],
   "isGpuEnabled": false,
   "isInternetEnabled": false,
   "language": "python",
   "sourceType": "notebook"
  },
  "kernelspec": {
   "display_name": "Python 3 (ipykernel)",
   "language": "python",
   "name": "python3"
  },
  "language_info": {
   "codemirror_mode": {
    "name": "ipython",
    "version": 3
   },
   "file_extension": ".py",
   "mimetype": "text/x-python",
   "name": "python",
   "nbconvert_exporter": "python",
   "pygments_lexer": "ipython3",
   "version": "3.12.7"
  }
 },
 "nbformat": 4,
 "nbformat_minor": 4
}
