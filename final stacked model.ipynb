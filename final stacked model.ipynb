{
 "cells": [
  {
   "cell_type": "markdown",
   "id": "6089b070-f969-4cfb-87c1-961b01b4b4c0",
   "metadata": {},
   "source": [
    "## STACKING MODELS WITH MLXtend"
   ]
  },
  {
   "cell_type": "code",
   "execution_count": 2,
   "id": "ccf97596-e61c-4869-adc8-7babc896c493",
   "metadata": {},
   "outputs": [],
   "source": [
    "#import libraries\n",
    "import pandas as pd\n",
    "import numpy as np\n",
    "\n",
    "from sklearn.linear_model import RidgeCV, LinearRegression\n",
    "from xgboost import XGBRegressor\n",
    "from catboost import CatBoostRegressor\n",
    "from lightgbm import LGBMRegressor\n",
    "from sklearn.ensemble import RandomForestRegressor, BaggingRegressor, StackingRegressor\n",
    "\n",
    "from sklearn.model_selection import train_test_split, cross_val_score\n",
    "from sklearn.metrics import mean_absolute_error, mean_squared_error as MSE, r2_score\n",
    "from sklearn.pipeline import Pipeline\n",
    "from sklearn.preprocessing import StandardScaler, OneHotEncoder, PolynomialFeatures, FunctionTransformer \n",
    "from sklearn.compose import ColumnTransformer\n",
    "\n",
    "from sklearn.base import BaseEstimator, TransformerMixin\n",
    "from sklearn.feature_selection import SelectFromModel, SelectKBest, f_regression, VarianceThreshold\n",
    "from sklearn.impute import SimpleImputer\n"
   ]
  },
  {
   "cell_type": "code",
   "execution_count": 3,
   "id": "24c019a2-ee09-4999-8392-d861860b46f1",
   "metadata": {},
   "outputs": [
    {
     "data": {
      "text/html": [
       "<div>\n",
       "<style scoped>\n",
       "    .dataframe tbody tr th:only-of-type {\n",
       "        vertical-align: middle;\n",
       "    }\n",
       "\n",
       "    .dataframe tbody tr th {\n",
       "        vertical-align: top;\n",
       "    }\n",
       "\n",
       "    .dataframe thead th {\n",
       "        text-align: right;\n",
       "    }\n",
       "</style>\n",
       "<table border=\"1\" class=\"dataframe\">\n",
       "  <thead>\n",
       "    <tr style=\"text-align: right;\">\n",
       "      <th></th>\n",
       "      <th>Id</th>\n",
       "      <th>MSSubClass</th>\n",
       "      <th>MSZoning</th>\n",
       "      <th>LotFrontage</th>\n",
       "      <th>LotArea</th>\n",
       "      <th>Street</th>\n",
       "      <th>Alley</th>\n",
       "      <th>LotShape</th>\n",
       "      <th>LandContour</th>\n",
       "      <th>Utilities</th>\n",
       "      <th>...</th>\n",
       "      <th>PoolArea</th>\n",
       "      <th>PoolQC</th>\n",
       "      <th>Fence</th>\n",
       "      <th>MiscFeature</th>\n",
       "      <th>MiscVal</th>\n",
       "      <th>MoSold</th>\n",
       "      <th>YrSold</th>\n",
       "      <th>SaleType</th>\n",
       "      <th>SaleCondition</th>\n",
       "      <th>SalePrice</th>\n",
       "    </tr>\n",
       "  </thead>\n",
       "  <tbody>\n",
       "    <tr>\n",
       "      <th>0</th>\n",
       "      <td>1</td>\n",
       "      <td>60</td>\n",
       "      <td>RL</td>\n",
       "      <td>65.0</td>\n",
       "      <td>8450</td>\n",
       "      <td>Pave</td>\n",
       "      <td>NaN</td>\n",
       "      <td>Reg</td>\n",
       "      <td>Lvl</td>\n",
       "      <td>AllPub</td>\n",
       "      <td>...</td>\n",
       "      <td>0</td>\n",
       "      <td>0</td>\n",
       "      <td>NaN</td>\n",
       "      <td>NaN</td>\n",
       "      <td>0</td>\n",
       "      <td>2</td>\n",
       "      <td>2008</td>\n",
       "      <td>WD</td>\n",
       "      <td>Normal</td>\n",
       "      <td>208500</td>\n",
       "    </tr>\n",
       "    <tr>\n",
       "      <th>1</th>\n",
       "      <td>2</td>\n",
       "      <td>20</td>\n",
       "      <td>RL</td>\n",
       "      <td>80.0</td>\n",
       "      <td>9600</td>\n",
       "      <td>Pave</td>\n",
       "      <td>NaN</td>\n",
       "      <td>Reg</td>\n",
       "      <td>Lvl</td>\n",
       "      <td>AllPub</td>\n",
       "      <td>...</td>\n",
       "      <td>0</td>\n",
       "      <td>0</td>\n",
       "      <td>NaN</td>\n",
       "      <td>NaN</td>\n",
       "      <td>0</td>\n",
       "      <td>5</td>\n",
       "      <td>2007</td>\n",
       "      <td>WD</td>\n",
       "      <td>Normal</td>\n",
       "      <td>181500</td>\n",
       "    </tr>\n",
       "    <tr>\n",
       "      <th>2</th>\n",
       "      <td>3</td>\n",
       "      <td>60</td>\n",
       "      <td>RL</td>\n",
       "      <td>68.0</td>\n",
       "      <td>11250</td>\n",
       "      <td>Pave</td>\n",
       "      <td>NaN</td>\n",
       "      <td>IR1</td>\n",
       "      <td>Lvl</td>\n",
       "      <td>AllPub</td>\n",
       "      <td>...</td>\n",
       "      <td>0</td>\n",
       "      <td>0</td>\n",
       "      <td>NaN</td>\n",
       "      <td>NaN</td>\n",
       "      <td>0</td>\n",
       "      <td>9</td>\n",
       "      <td>2008</td>\n",
       "      <td>WD</td>\n",
       "      <td>Normal</td>\n",
       "      <td>223500</td>\n",
       "    </tr>\n",
       "    <tr>\n",
       "      <th>3</th>\n",
       "      <td>4</td>\n",
       "      <td>70</td>\n",
       "      <td>RL</td>\n",
       "      <td>60.0</td>\n",
       "      <td>9550</td>\n",
       "      <td>Pave</td>\n",
       "      <td>NaN</td>\n",
       "      <td>IR1</td>\n",
       "      <td>Lvl</td>\n",
       "      <td>AllPub</td>\n",
       "      <td>...</td>\n",
       "      <td>0</td>\n",
       "      <td>0</td>\n",
       "      <td>NaN</td>\n",
       "      <td>NaN</td>\n",
       "      <td>0</td>\n",
       "      <td>2</td>\n",
       "      <td>2006</td>\n",
       "      <td>WD</td>\n",
       "      <td>Abnorml</td>\n",
       "      <td>140000</td>\n",
       "    </tr>\n",
       "    <tr>\n",
       "      <th>4</th>\n",
       "      <td>5</td>\n",
       "      <td>60</td>\n",
       "      <td>RL</td>\n",
       "      <td>84.0</td>\n",
       "      <td>14260</td>\n",
       "      <td>Pave</td>\n",
       "      <td>NaN</td>\n",
       "      <td>IR1</td>\n",
       "      <td>Lvl</td>\n",
       "      <td>AllPub</td>\n",
       "      <td>...</td>\n",
       "      <td>0</td>\n",
       "      <td>0</td>\n",
       "      <td>NaN</td>\n",
       "      <td>NaN</td>\n",
       "      <td>0</td>\n",
       "      <td>12</td>\n",
       "      <td>2008</td>\n",
       "      <td>WD</td>\n",
       "      <td>Normal</td>\n",
       "      <td>250000</td>\n",
       "    </tr>\n",
       "  </tbody>\n",
       "</table>\n",
       "<p>5 rows × 81 columns</p>\n",
       "</div>"
      ],
      "text/plain": [
       "   Id  MSSubClass MSZoning  LotFrontage  LotArea Street Alley LotShape  \\\n",
       "0   1          60       RL         65.0     8450   Pave   NaN      Reg   \n",
       "1   2          20       RL         80.0     9600   Pave   NaN      Reg   \n",
       "2   3          60       RL         68.0    11250   Pave   NaN      IR1   \n",
       "3   4          70       RL         60.0     9550   Pave   NaN      IR1   \n",
       "4   5          60       RL         84.0    14260   Pave   NaN      IR1   \n",
       "\n",
       "  LandContour Utilities  ... PoolArea PoolQC Fence MiscFeature MiscVal MoSold  \\\n",
       "0         Lvl    AllPub  ...        0      0   NaN         NaN       0      2   \n",
       "1         Lvl    AllPub  ...        0      0   NaN         NaN       0      5   \n",
       "2         Lvl    AllPub  ...        0      0   NaN         NaN       0      9   \n",
       "3         Lvl    AllPub  ...        0      0   NaN         NaN       0      2   \n",
       "4         Lvl    AllPub  ...        0      0   NaN         NaN       0     12   \n",
       "\n",
       "  YrSold  SaleType  SaleCondition  SalePrice  \n",
       "0   2008        WD         Normal     208500  \n",
       "1   2007        WD         Normal     181500  \n",
       "2   2008        WD         Normal     223500  \n",
       "3   2006        WD        Abnorml     140000  \n",
       "4   2008        WD         Normal     250000  \n",
       "\n",
       "[5 rows x 81 columns]"
      ]
     },
     "execution_count": 3,
     "metadata": {},
     "output_type": "execute_result"
    }
   ],
   "source": [
    "df = pd.read_csv(\"cleaned_df.csv\")\n",
    "df.head()"
   ]
  },
  {
   "cell_type": "code",
   "execution_count": 4,
   "id": "2297b407-a41f-46f7-bb7d-a6f1198ab876",
   "metadata": {},
   "outputs": [
    {
     "data": {
      "text/plain": [
       "(1460, 81)"
      ]
     },
     "execution_count": 4,
     "metadata": {},
     "output_type": "execute_result"
    }
   ],
   "source": [
    "df.shape"
   ]
  },
  {
   "cell_type": "code",
   "execution_count": 5,
   "id": "f4514d8e-4261-4127-a42b-be1b4b958e7c",
   "metadata": {},
   "outputs": [
    {
     "name": "stdout",
     "output_type": "stream",
     "text": [
      "MiscFeature     1406\n",
      "Alley           1369\n",
      "Fence           1179\n",
      "MasVnrType       872\n",
      "GarageFinish      81\n",
      "GarageType        81\n",
      "Electrical         1\n",
      "dtype: int64\n"
     ]
    }
   ],
   "source": [
    "null_values = df.isnull().sum().sort_values(ascending = False)\n",
    "print(null_values[null_values > 0])"
   ]
  },
  {
   "cell_type": "code",
   "execution_count": 6,
   "id": "1e60b737-e21f-4612-a5ac-e9cd821f77ad",
   "metadata": {},
   "outputs": [
    {
     "data": {
      "text/plain": [
       "Index(['Id', 'MSSubClass', 'MSZoning', 'LotFrontage', 'LotArea', 'Street',\n",
       "       'Alley', 'LotShape', 'LandContour', 'Utilities', 'LotConfig',\n",
       "       'LandSlope', 'Neighborhood', 'Condition1', 'Condition2', 'BldgType',\n",
       "       'HouseStyle', 'OverallQual', 'OverallCond', 'YearBuilt', 'YearRemodAdd',\n",
       "       'RoofStyle', 'RoofMatl', 'Exterior1st', 'Exterior2nd', 'MasVnrType',\n",
       "       'MasVnrArea', 'ExterQual', 'ExterCond', 'Foundation', 'BsmtQual',\n",
       "       'BsmtCond', 'BsmtExposure', 'BsmtFinType1', 'BsmtFinSF1',\n",
       "       'BsmtFinType2', 'BsmtFinSF2', 'BsmtUnfSF', 'TotalBsmtSF', 'Heating',\n",
       "       'HeatingQC', 'CentralAir', 'Electrical', '1stFlrSF', '2ndFlrSF',\n",
       "       'LowQualFinSF', 'GrLivArea', 'BsmtFullBath', 'BsmtHalfBath', 'FullBath',\n",
       "       'HalfBath', 'BedroomAbvGr', 'KitchenAbvGr', 'KitchenQual',\n",
       "       'TotRmsAbvGrd', 'Functional', 'Fireplaces', 'FireplaceQu', 'GarageType',\n",
       "       'GarageYrBlt', 'GarageFinish', 'GarageCars', 'GarageArea', 'GarageQual',\n",
       "       'GarageCond', 'PavedDrive', 'WoodDeckSF', 'OpenPorchSF',\n",
       "       'EnclosedPorch', '3SsnPorch', 'ScreenPorch', 'PoolArea', 'PoolQC',\n",
       "       'Fence', 'MiscFeature', 'MiscVal', 'MoSold', 'YrSold', 'SaleType',\n",
       "       'SaleCondition', 'SalePrice'],\n",
       "      dtype='object')"
      ]
     },
     "execution_count": 6,
     "metadata": {},
     "output_type": "execute_result"
    }
   ],
   "source": [
    "df.columns"
   ]
  },
  {
   "cell_type": "markdown",
   "id": "dbc70dd2-2570-453f-ad10-7b3607fc26e0",
   "metadata": {},
   "source": [
    "## Feature Engineering and Preprocessing Pipeline"
   ]
  },
  {
   "cell_type": "markdown",
   "id": "3534e82b-a2fe-49fc-9de3-adcf91a3fa95",
   "metadata": {},
   "source": [
    "#### Automatic feature creator\n",
    "\n",
    "Define a class to create features automatically whenever there is a new X input."
   ]
  },
  {
   "cell_type": "code",
   "execution_count": 9,
   "id": "f938cda9-6105-4cae-aabd-e628ddb52a05",
   "metadata": {},
   "outputs": [],
   "source": [
    "# class for feature creation\n",
    "class FeatureCreator(BaseEstimator, TransformerMixin):\n",
    "    def __init__(self):\n",
    "        pass\n",
    "\n",
    "    def fit(self, X, y=None): # temporarily create features to be used in column transformation\n",
    "        if y is not None:\n",
    "            df = X.copy()\n",
    "            df['SalePrice'] = y\n",
    "            df['price_sqft'] = df['SalePrice'] / df['GrLivArea'].replace(0, np.nan)\n",
    "\n",
    "            self.neighborhood_avg_price_sqft = df.groupby('Neighborhood')['price_sqft'].mean().to_dict()\n",
    "            self.nbhood_avghouse_price = df.groupby(\"Neighborhood\")[\"SalePrice\"].mean().to_dict()\n",
    "            self.SubClass_avg_price_sqft = df.groupby(\"MSSubClass\")[\"price_sqft\"].mean().to_dict()\n",
    "            self.Zoning_avg_price_sqft = df.groupby(\"MSZoning\")[\"price_sqft\"].mean().to_dict()\n",
    "            self.yearbuilt_avg_price = df.groupby(\"YearBuilt\")[\"SalePrice\"].mean().to_dict()\n",
    "            df['age'] = df['YrSold'] - df['YearBuilt']\n",
    "            df['age_afterRemodel'] = df['YrSold'] - df['YearRemodAdd']\n",
    "            self.age_avg_price = df.groupby(\"age\")[\"SalePrice\"].mean().to_dict()\n",
    "            self.age_afterRemodel_price_sqft = df.groupby(\"age_afterRemodel\")[\"SalePrice\"].mean().to_dict()\n",
    "            self.rooms_avg_price = df.groupby(\"TotRmsAbvGrd\")[\"SalePrice\"].mean().to_dict()\n",
    "            self.overalcond_avg_price = df.groupby(\"OverallCond\")[\"SalePrice\"].mean().to_dict()\n",
    "        return self\n",
    "\n",
    "    def transform(self, X):\n",
    "        df = X.copy()\n",
    "\n",
    "        # Basic features\n",
    "        df['total_area'] = df.get('GrLivArea', 0) + df.get('TotalBsmtSF', 0) + df.get('GarageArea', 0)\n",
    "        df['total_bathrooms'] = (\n",
    "            df.get('FullBath', 0) +\n",
    "            0.5 * df.get('HalfBath', 0) +\n",
    "            df.get('BsmtFullBath', 0) +\n",
    "            0.5 * df.get('BsmtHalfBath', 0)\n",
    "        )\n",
    "\n",
    "        # Age features\n",
    "        df['age'] = df.get('YrSold', 0) - df.get('YearBuilt', 0)\n",
    "        df['age_afterRemodel'] = df.get('YrSold', 0) - df.get('YearRemodAdd', 0)\n",
    "\n",
    "        # Mapping price new features — without overwriting originals\n",
    "        df['nbd_avg_price_sqf'] = df['Neighborhood'].map(self.neighborhood_avg_price_sqft)\n",
    "        df['nbd_avg_price_sqf'] = df['nbd_avg_price_sqf'].fillna(np.mean(list(self.neighborhood_avg_price_sqft.values())))\n",
    "\n",
    "        df['nbd_avg_house_price'] = df['Neighborhood'].map(self.nbhood_avghouse_price)\n",
    "        df['SubClass_avg_price_sqf'] = df['MSSubClass'].map(self.SubClass_avg_price_sqft)\n",
    "        df['Zoning_avg_price_sqf'] = df['MSZoning'].map(self.Zoning_avg_price_sqft)\n",
    "        df['yearbuilt_avg_price'] = df['YearBuilt'].map(self.yearbuilt_avg_price)\n",
    "        df['age_avg_price'] = df['age'].map(self.age_avg_price)\n",
    "        df['age_afterRemodel_price'] = df['age_afterRemodel'].map(self.age_afterRemodel_price_sqft)\n",
    "        df['rooms_avg_price'] = df['TotRmsAbvGrd'].map(self.rooms_avg_price)\n",
    "        df['overalcond_avg_price'] = df['OverallCond'].map(self.overalcond_avg_price)\n",
    "\n",
    "        return df\n"
   ]
  },
  {
   "cell_type": "markdown",
   "id": "27d8719c-54fa-48ff-8476-d550b086c2ce",
   "metadata": {},
   "source": [
    "### Split the dataset"
   ]
  },
  {
   "cell_type": "code",
   "execution_count": 11,
   "id": "d9b14f8a-7ecf-4f34-9d65-372b3616c8e0",
   "metadata": {},
   "outputs": [],
   "source": [
    "df = df.dropna(subset=['SalePrice'])\n",
    "\n",
    "# Split features and target\n",
    "X = df.drop(columns = ['SalePrice'])\n",
    "X = X.dropna(axis = 'columns')\n",
    "\n",
    "y = df['SalePrice']  # KEEP AS IS (raw)\n",
    "\n",
    "# 3. Train-test split\n",
    "X_train, X_test, y_train, y_test = train_test_split(\n",
    "    X, y, test_size=0.2, random_state=42\n",
    ")\n",
    "\n",
    "# Feature creation from training data for the sole purpose of selecting numerical features for columtransfomer\n",
    "feature_creator = FeatureCreator()\n",
    "X_train_created = feature_creator.fit_transform(X_train, y_train)\n",
    "\n",
    "#  Use only the transformed X_train to define feature types\n",
    "num_features = X_train_created.select_dtypes(include='number').columns.tolist()\n",
    "cat_features = X_train_created.select_dtypes(include=['object', 'category']).columns.tolist()\n"
   ]
  },
  {
   "cell_type": "markdown",
   "id": "6de6bcf8-f37b-432d-a374-164500db7f1d",
   "metadata": {},
   "source": [
    "#### Select polynomial features to be added"
   ]
  },
  {
   "cell_type": "code",
   "execution_count": 13,
   "id": "19291313-f50f-45da-bd70-ed4d88817c3d",
   "metadata": {},
   "outputs": [],
   "source": [
    "#Apply PolynomialFeatures only to a few important columns \n",
    "\n",
    "Selected_poly_features= ['LotFrontage', 'yearbuilt_avg_price', 'OverallQual', 'GrLivArea', \n",
    "                         'total_area', 'nbd_avg_price_sqf', 'rooms_avg_price', 'OverallCond', \n",
    "                         'age_avg_price', 'ExterQual', 'BsmtQual', 'BsmtCond', 'BsmtExposure', \n",
    "                         '2ndFlrSF', 'BsmtFinSF1', 'nbd_avg_house_price', 'BsmtFinType2', 'FullBath', \n",
    "                         'HeatingQC', 'CentralAir', '1stFlrSF', 'BsmtFullBath', 'KitchenQual', \n",
    "                         'Fireplaces', 'age_afterRemodel_price', 'SubClass_avg_price_sqf', 'Zoning_avg_price_sqf', \n",
    "                         'overalcond_avg_price', 'total_bathrooms', 'BedroomAbvGr', 'TotRmsAbvGrd', \n",
    "                        'GarageArea']\n"
   ]
  },
  {
   "cell_type": "markdown",
   "id": "3664bf0a-5c20-4433-85a0-7b1312ed3dc2",
   "metadata": {},
   "source": [
    "#### Full preprocessing pipeline"
   ]
  },
  {
   "cell_type": "code",
   "execution_count": 15,
   "id": "52ae1c9f-a55a-460a-8fe5-46749ebf4d76",
   "metadata": {},
   "outputs": [],
   "source": [
    "#polynomial features\n",
    "poly_pipeline = Pipeline([\n",
    "    ('imputer', SimpleImputer(strategy='mean')),\n",
    "    ('poly', PolynomialFeatures(degree=2, include_bias=False, interaction_only=True)),\n",
    "    ('variance_filter', VarianceThreshold(threshold=0.0)),  # Removes constant columns\n",
    "    ('select', SelectKBest(score_func = f_regression, k = 25))\n",
    "])\n",
    "\n",
    "# Preprocessing for numeric features\n",
    "num_pipeline = Pipeline([\n",
    "    ('imputer', SimpleImputer(strategy='mean')),\n",
    "    ('scaler', StandardScaler())\n",
    "])\n",
    "\n",
    "# Preprocessing for categorical features\n",
    "cat_processor = Pipeline([\n",
    "    ('imputer', SimpleImputer(strategy = 'most_frequent')),\n",
    "    ('onehot', OneHotEncoder(handle_unknown ='ignore', sparse_output=False))\n",
    "])\n",
    "\n",
    "#column transformer\n",
    "preprocessor = ColumnTransformer(\n",
    "    transformers = [\n",
    "        ('poly', poly_pipeline, Selected_poly_features),\n",
    "        ('num', num_pipeline, num_features),\n",
    "        ('cat', cat_processor, cat_features)\n",
    "    ])\n",
    "\n",
    "# feature selector using a model (e.g., Ridge with L2 regularization)\n",
    "#feature_selector = SelectFromModel(RidgeCV(alphas=np.logspace(-3, 3, 7)))"
   ]
  },
  {
   "cell_type": "markdown",
   "id": "c1f276f3-a254-42aa-9a82-12bf6a8d8593",
   "metadata": {},
   "source": [
    "## Define the Models"
   ]
  },
  {
   "cell_type": "code",
   "execution_count": 17,
   "id": "481686ac-3fc3-44db-acac-beefd014c37f",
   "metadata": {},
   "outputs": [],
   "source": [
    "# Base regressors\n",
    "xgb = XGBRegressor(n_estimators = 500, learning_rate = 0.058, max_depth = 3, \n",
    "                   random_state = 42, verbosity = 0, n_jobs = 4)\n",
    "\n",
    "lgbm = LGBMRegressor(n_estimators = 500, learning_rate = 0.046, max_depth = 3, \n",
    "                     random_state = 42, verbose = 0, n_jobs = 4)\n",
    "\n",
    "rf = RandomForestRegressor(n_estimators = 500, random_state = 42, n_jobs = 4)\n",
    "\n",
    "\n",
    "ridge = RidgeCV(alphas = np.logspace(-3, 3, 7))\n",
    "catboost = CatBoostRegressor(verbose = 0, learning_rate = 0.03, depth = 10, random_state = 42)\n",
    "\n",
    "base_models = [('xgb', xgb), \n",
    "               ('rf', rf),\n",
    "               ('lgbm', lgbm),\n",
    "               ('catboost', catboost)\n",
    "              ]\n",
    "\n",
    "#meta_model = CatBoostRegressor(verbose = 0, learning_rate = 0.038, depth = 10, random_state = 42)\n",
    "meta_model = LinearRegression()\n"
   ]
  },
  {
   "cell_type": "code",
   "execution_count": 18,
   "id": "a2446269-befb-4afb-b9db-65004aea1117",
   "metadata": {},
   "outputs": [],
   "source": [
    "# stacking \n",
    "stacked_models = StackingRegressor(\n",
    "    estimators = base_models,\n",
    "    final_estimator = meta_model,\n",
    "    cv = 5,  # Enables OOF prediction\n",
    "    passthrough = False,  # Optional: If True, original features are passed to meta-model\n",
    "    n_jobs = -1\n",
    ")"
   ]
  },
  {
   "cell_type": "markdown",
   "id": "986dfe82-d47f-441d-baf3-4453f254b31e",
   "metadata": {},
   "source": [
    "## End-to-End ML Full Pipeline"
   ]
  },
  {
   "cell_type": "code",
   "execution_count": 20,
   "id": "a0da6091-df2c-4a16-9443-7798c4b877ae",
   "metadata": {},
   "outputs": [],
   "source": [
    "# full pipeline\n",
    "full_pipeline = Pipeline(steps=[\n",
    "    ('feature_creator', feature_creator),  # custom feature engineer\n",
    "    ('preprocessor', preprocessor),\n",
    "    #('feature_selection', feature_selector), \n",
    "    ('model', stacked_models)\n",
    "])"
   ]
  },
  {
   "cell_type": "markdown",
   "id": "df8236a1-5f2c-4272-a0e2-a56a467eacbd",
   "metadata": {},
   "source": [
    "## Fit and Predict"
   ]
  },
  {
   "cell_type": "code",
   "execution_count": 22,
   "id": "936e4607-137b-4141-a648-880986c8a26d",
   "metadata": {},
   "outputs": [],
   "source": [
    "full_pipeline.fit(X_train, y_train)\n",
    "\n",
    "y_pred = full_pipeline.predict(X_test)\n"
   ]
  },
  {
   "cell_type": "markdown",
   "id": "fc48d57f-8789-4e79-9342-356add1b0038",
   "metadata": {},
   "source": [
    "## Model Evaluation"
   ]
  },
  {
   "cell_type": "code",
   "execution_count": 24,
   "id": "90fe8d29-8c09-4e49-9624-b2264642a45a",
   "metadata": {},
   "outputs": [
    {
     "name": "stdout",
     "output_type": "stream",
     "text": [
      "RMSE on Test Set: 26343.20\n",
      "R² on Test Set: 0.9095\n",
      "MAE on Test Set: 15337.21\n"
     ]
    }
   ],
   "source": [
    "# Metrics\n",
    "rmse = np.sqrt(MSE(y_test, y_pred))\n",
    "r2 = r2_score(y_test, y_pred)\n",
    "mae = mean_absolute_error(y_test, y_pred)\n",
    "\n",
    "print(f\"RMSE on Test Set: {rmse:.2f}\")\n",
    "print(f\"R² on Test Set: {r2:.4f}\")\n",
    "print(f\"MAE on Test Set: {mae:.2f}\")\n"
   ]
  }
 ],
 "metadata": {
  "kernelspec": {
   "display_name": "Python 3 (ipykernel)",
   "language": "python",
   "name": "python3"
  },
  "language_info": {
   "codemirror_mode": {
    "name": "ipython",
    "version": 3
   },
   "file_extension": ".py",
   "mimetype": "text/x-python",
   "name": "python",
   "nbconvert_exporter": "python",
   "pygments_lexer": "ipython3",
   "version": "3.12.7"
  }
 },
 "nbformat": 4,
 "nbformat_minor": 5
}
